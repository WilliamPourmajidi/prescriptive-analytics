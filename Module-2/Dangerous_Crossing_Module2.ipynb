{
 "cells": [
  {
   "cell_type": "markdown",
   "id": "7cb918cc",
   "metadata": {},
   "source": [
    "# Dangerous Crossing – Optimization Problem (Module 2)\n",
    "\n",
    "This notebook explores a classic logic-based optimization problem known as the **Dangerous Crossing**. It challenges us to minimize the total time required for a group to cross a bridge under constraints."
   ]
  },
  {
   "cell_type": "markdown",
   "id": "83d86d84",
   "metadata": {},
   "source": [
    "\n",
    "## Problem Description\n",
    "\n",
    "Four individuals need to cross a narrow bridge at night:\n",
    "- Only **two people can cross at a time**.\n",
    "- They must use a **single flashlight** to see.\n",
    "- The group has different walking speeds:\n",
    "  - Person A: 1 minute\n",
    "  - Person B: 2 minutes\n",
    "  - Person C: 5 minutes\n",
    "  - Person D: 10 minutes\n",
    "- When two people cross together, they must go at the pace of the **slower** person.\n",
    "- Someone must return with the flashlight after each crossing.\n",
    "\n",
    "### Objective:\n",
    "**Minimize the total time** for all four people to cross the bridge.\n",
    "\n",
    "This is a **discrete optimization problem** with sequencing and resource constraints.\n"
   ]
  },
  {
   "cell_type": "markdown",
   "id": "6d1748d9",
   "metadata": {},
   "source": [
    "## Step 1: Why This Is an Optimization Problem\n",
    "\n",
    "- We are trying to **minimize total time** – a classic optimization goal.\n",
    "- The **constraints** (bridge capacity, flashlight dependency, walking speeds) define a **feasible solution space**.\n",
    "- There are **multiple ways** to sequence the crossings**, but only one or a few that give the optimal time.\n",
    "\n",
    "### Why this is not a linear programming problem:\n",
    "- The objective function and constraints are **not linear**; they depend on discrete events and decisions made in sequence.\n",
    "- The solution involves **min/max operations** (e.g., going at the pace of the slower person) and **path-dependent steps** (e.g., who returns the flashlight and when).\n",
    "\n",
    "### What is Combinatorial Optimization?\n",
    "\n",
    "This problem falls into a class called **combinatorial optimization**.\n",
    "\n",
    "**Definition:**  \n",
    "Combinatorial optimization is a type of mathematical optimization where the solution involves **choosing the best combination or sequence** from a finite set of possibilities. These problems often involve:\n",
    "- **Discrete decision variables** (e.g., person A vs. person B)\n",
    "- **Permutations or combinations** (e.g., order of crossings)\n",
    "- **Logical constraints** (e.g., only two people can cross at a time)\n",
    "\n",
    "In this case:\n",
    "- Each crossing decision (who goes, who returns) is one element in a sequence.\n",
    "- The total number of possible sequences is **finite but large**.\n",
    "- The goal is to find the sequence (combination of decisions) that leads to the **smallest total crossing time**.\n",
    "\n",
    "This kind of problem cannot be solved with traditional algebraic methods (like linear programming), but requires **brute-force search**, **greedy heuristics**, or **backtracking algorithms**.\n"
   ]
  },
  {
   "cell_type": "markdown",
   "id": "a4de7830",
   "metadata": {},
   "source": [
    "\n",
    "## Step 2: Manual Solution Strategy\n",
    "\n",
    "We try a few crossing strategies and evaluate the total time.\n",
    "\n",
    "### Greedy (suboptimal):\n",
    "- A & B cross → 2 min\n",
    "- A returns → 1 min\n",
    "- C & D cross → 10 min\n",
    "- B returns → 2 min\n",
    "- A & B cross → 2 min  \n",
    "**Total = 17 minutes**\n",
    "\n",
    "### Optimal Strategy:\n",
    "- A & B cross → 2 min\n",
    "- A returns → 1 min\n",
    "- C & D cross → 10 min\n",
    "- B returns → 2 min\n",
    "- A & B cross → 2 min  \n",
    "**Total = 17 minutes**\n",
    "\n",
    "This is the best-known solution. Any deviation takes longer.\n",
    "\n",
    "We will simulate this next using Python.\n"
   ]
  },
  {
   "cell_type": "markdown",
   "id": "7acab317",
   "metadata": {},
   "source": [
    "\n",
    "## Step 3: Brute-Force or Rule-Based Python Simulation\n",
    "\n",
    "We simulate the bridge crossing steps and track total time.\n"
   ]
  },
  {
   "cell_type": "code",
   "execution_count": null,
   "id": "e3647306",
   "metadata": {},
   "outputs": [],
   "source": [
    "\n",
    "# Crossing times\n",
    "times = {'A': 1, 'B': 2, 'C': 5, 'D': 10}\n",
    "\n",
    "# Best known strategy\n",
    "steps = [\n",
    "    ('A', 'B'),  # 2 mins\n",
    "    ('A',),      # 1 min return\n",
    "    ('C', 'D'),  # 10 mins\n",
    "    ('B',),      # 2 min return\n",
    "    ('A', 'B')   # 2 mins\n",
    "]\n",
    "\n",
    "total_time = 0\n",
    "print(\"Crossing steps and timing:\")\n",
    "\n",
    "for step in steps:\n",
    "    step_time = max(times[p] for p in step)\n",
    "    total_time += step_time\n",
    "    print(f\" - {step} takes {step_time} minutes\")\n",
    "\n",
    "print(f\"Total time: {total_time} minutes\")\n"
   ]
  },
  {
   "cell_type": "markdown",
   "id": "84bd7660",
   "metadata": {},
   "source": [
    "\n",
    "## Step 4: Summary\n",
    "\n",
    "This problem is an example of:\n",
    "- **Combinatorial optimization**\n",
    "- **Greedy algorithm assessment**\n",
    "- **Resource constraint modeling**\n",
    "\n",
    "We cannot use Google OR-Tools' linear solver here because:\n",
    "- The problem involves **logical steps**, not linear equations.\n",
    "- There is no continuous or integer variable formulation.\n",
    "\n",
    "Instead, we use **manual planning** or **custom logic solvers** (e.g., backtracking, dynamic programming, or AI planners).\n"
   ]
  }
 ],
 "metadata": {
  "language_info": {
   "name": "python"
  }
 },
 "nbformat": 4,
 "nbformat_minor": 5
}
