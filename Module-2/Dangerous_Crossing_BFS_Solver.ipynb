{
 "cells": [
  {
   "cell_type": "markdown",
   "id": "ad1b1ef4",
   "metadata": {},
   "source": [
    "\n",
    "## How Can We Discover the Optimal Crossing Strategy?\n",
    "\n",
    "This is where algorithmic thinking comes in. When we are not given the optimal steps, we must explore possible **states** and transitions between them.\n",
    "\n",
    "### Combinatorial State Space\n",
    "\n",
    "- Each **state** consists of who is on the left side, right side, and the flashlight's location.\n",
    "- The **initial state** has all four people on the left with the flashlight.\n",
    "- A **transition** is a valid move: either one or two people cross or return, depending on where the flashlight is.\n",
    "- Each transition adds time (equal to the slowest person in the crossing group).\n",
    "- The **goal** is to get everyone to the right side with the flashlight.\n",
    "\n",
    "### Solving with Breadth-First Search (BFS)\n",
    "\n",
    "We use BFS to:\n",
    "1. Explore all valid sequences of moves.\n",
    "2. Track time spent and avoid re-visiting already seen configurations.\n",
    "3. Return the path that gets everyone across with the **minimum total time**.\n",
    "\n",
    "This is a classic example of **combinatorial search** in discrete optimization.\n"
   ]
  },
  {
   "cell_type": "code",
   "execution_count": 2,
   "id": "9bbc8bec",
   "metadata": {},
   "outputs": [
    {
     "name": "stdout",
     "output_type": "stream",
     "text": [
      "Optimal total time: 17 minutes\n",
      "Optimal steps:\n",
      "  ('A', 'B')\n",
      "  ('A',)\n",
      "  ('D', 'C')\n",
      "  ('B',)\n",
      "  ('A', 'B')\n"
     ]
    }
   ],
   "source": [
    "from collections import deque\n",
    "\n",
    "# Crossing times\n",
    "times = {'A': 1, 'B': 2, 'C': 5, 'D': 10}\n",
    "\n",
    "# Initial state: (left_side, right_side, flashlight_side, time_spent, path)\n",
    "initial_state = (frozenset(['A', 'B', 'C', 'D']), frozenset(), 'left', 0, [])\n",
    "\n",
    "# BFS setup\n",
    "queue = deque([initial_state])\n",
    "visited = dict()  # track best known cost to a state\n",
    "\n",
    "min_time = float('inf')\n",
    "best_path = []\n",
    "\n",
    "while queue:\n",
    "    left, right, light, time_spent, path = queue.popleft()\n",
    "\n",
    "    # Use sorted tuple to normalize state regardless of ordering\n",
    "    state_id = (frozenset(left), frozenset(right), light)\n",
    "    if state_id in visited and visited[state_id] <= time_spent:\n",
    "        continue\n",
    "    visited[state_id] = time_spent\n",
    "\n",
    "    # Goal check\n",
    "    if len(left) == 0 and light == 'right':\n",
    "        if time_spent < min_time:\n",
    "            min_time = time_spent\n",
    "            best_path = path\n",
    "        continue\n",
    "\n",
    "    if light == 'left':\n",
    "        # Choose all 2-person combinations from left\n",
    "        people = list(left)\n",
    "        for i in range(len(people)):\n",
    "            for j in range(i + 1, len(people)):\n",
    "                a, b = people[i], people[j]\n",
    "                cost = max(times[a], times[b])\n",
    "                new_left = left - {a, b}\n",
    "                new_right = right | {a, b}\n",
    "                new_path = path + [(a, b)]\n",
    "                queue.append((new_left, new_right, 'right', time_spent + cost, new_path))\n",
    "    else:\n",
    "        # Only allow 1 person to return\n",
    "        for p in right:\n",
    "            cost = times[p]\n",
    "            new_left = left | {p}\n",
    "            new_right = right - {p}\n",
    "            new_path = path + [(p,)]\n",
    "            queue.append((new_left, new_right, 'left', time_spent + cost, new_path))\n",
    "\n",
    "# Final output\n",
    "print(\"Optimal total time:\", min_time, \"minutes\")\n",
    "print(\"Optimal steps:\")\n",
    "for step in best_path:\n",
    "    print(\" \", step)\n"
   ]
  }
 ],
 "metadata": {
  "kernelspec": {
   "display_name": "PA-Venv",
   "language": "python",
   "name": "python3"
  },
  "language_info": {
   "codemirror_mode": {
    "name": "ipython",
    "version": 3
   },
   "file_extension": ".py",
   "mimetype": "text/x-python",
   "name": "python",
   "nbconvert_exporter": "python",
   "pygments_lexer": "ipython3",
   "version": "3.13.5"
  }
 },
 "nbformat": 4,
 "nbformat_minor": 5
}
