{
 "cells": [
  {
   "cell_type": "markdown",
   "id": "1d357fa0",
   "metadata": {},
   "source": [
    "# Module 5: Linear Integer Programming (LIP)\n",
    "\n",
    "This module explores **Linear Integer Programming (LIP)** — an advanced form of linear programming that requires decision variables to be integers. This is useful when dealing with real-world constraints like indivisible products, people, or machines.\n"
   ]
  },
  {
   "cell_type": "markdown",
   "id": "cea67922",
   "metadata": {},
   "source": [
    "## Learning Objectives\n",
    "\n",
    "By the end of this module, you will be able to:\n",
    "\n",
    "- Define the principles of integer programming.\n",
    "- Use the branch and bound method for solving integer programming problems.\n",
    "- Practice solving these problems graphically and with Excel Solver or Python.\n"
   ]
  },
  {
   "cell_type": "markdown",
   "id": "fe9d5cb5",
   "metadata": {},
   "source": [
    "## What is Integer Programming?\n",
    "\n",
    "Integer programming problems resemble regular linear programming but require that **some or all decision variables be integers**.\n",
    "\n",
    "There are two major types:\n",
    "\n",
    "- **Mixed Integer Programming (MIP):** Only some variables are constrained to be integers.\n",
    "- **Pure Integer Programming:** All variables are integers.\n",
    "\n",
    "A special case is **Binary Integer Programming (BIP)**, where variables can only be 0 or 1.\n"
   ]
  },
  {
   "cell_type": "markdown",
   "id": "7752b946",
   "metadata": {},
   "source": [
    "## Binary Decisions\n",
    "\n",
    "Many integer programming problems involve **yes-or-no** decisions, such as:\n",
    "\n",
    "- Should we build a factory at location X?\n",
    "- Should we invest in Project Y?\n",
    "\n",
    "These decisions are modeled using binary variables:\n",
    "\n",
    "$$\n",
    "x_j =\n",
    "\\begin{cases}\n",
    "1 & \\text{if decision j is \"yes\"} \\\\\n",
    "0 & \\text{if decision j is \"no\"}\n",
    "\\end{cases}\n",
    "$$\n"
   ]
  },
  {
   "cell_type": "markdown",
   "id": "1b0be3f8",
   "metadata": {},
   "source": [
    "## Applications of Integer Programming\n",
    "\n",
    "- **Capital Budgeting**\n",
    "- **Production Planning**\n",
    "- **Facility Location**\n",
    "- **Staff Scheduling**\n",
    "- **Portfolio Selection**\n",
    "- **Advertising Campaign Planning**\n"
   ]
  }
 ],
 "metadata": {},
 "nbformat": 4,
 "nbformat_minor": 5
}