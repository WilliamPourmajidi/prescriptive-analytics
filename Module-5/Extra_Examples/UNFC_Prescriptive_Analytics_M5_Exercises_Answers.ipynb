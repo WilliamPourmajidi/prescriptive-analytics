{
 "cells": [
  {
   "cell_type": "markdown",
   "metadata": {},
   "source": [
    "<img src=\"UNFC_COVER.jpg\" alt=\"UNFC\">"
   ]
  },
  {
   "cell_type": "markdown",
   "metadata": {},
   "source": [
    "# Module 5: Linear Integer Programming"
   ]
  },
  {
   "cell_type": "markdown",
   "metadata": {},
   "source": [
    "## Importing Libraries"
   ]
  },
  {
   "cell_type": "code",
   "execution_count": 1,
   "metadata": {},
   "outputs": [],
   "source": [
    "import pandas as pd\n",
    "import matplotlib.pyplot as plt\n",
    "import numpy as np\n",
    "import seaborn as sns\n",
    "import random\n",
    "\n",
    "from scipy.optimize import linprog\n",
    "from ortools.linear_solver import pywraplp\n",
    "from pulp import *"
   ]
  },
  {
   "cell_type": "markdown",
   "metadata": {},
   "source": [
    "## Mixed Integer Programming (MIP)"
   ]
  },
  {
   "cell_type": "markdown",
   "metadata": {},
   "source": [
    "### Exercise 1: \n",
    "\n",
    "Google's OR-Tools which implements Branch and Bound internally for MIP problems!"
   ]
  },
  {
   "cell_type": "markdown",
   "metadata": {},
   "source": [
    "Problem: Delivery Truck Loading Optimization\n",
    "\n",
    "- Scenario: A logistics company has a delivery truck with limited space (capacity = $100$ units). They need to decide:\n",
    "\n",
    "  - How many small boxes and large boxes to load.\n",
    "  - Whether or not to rent an extra trailer (at a fixed rental cost).\n",
    "\n",
    "- Product Details:\n",
    "  - Small box:  \n",
    "    - Volume = $5$ units\n",
    "    - Profit = $\\$10$ per box\n",
    "  - Large box:\n",
    "    - Volume = $20$ units\n",
    "    - Profit = $\\$30$ per box\n",
    "  - Optional Trailer:\n",
    "    - Increases capacity by $50$ units\n",
    "    - Rental cost = $\\$100$"
   ]
  },
  {
   "cell_type": "markdown",
   "metadata": {},
   "source": [
    "#### Answer\n",
    "\n",
    "Formulation:\n",
    "\n",
    "- Decision Variables:\n",
    "  - $ x_{1} $: number of small boxes loaded (integer $\\ge 0$)\n",
    "  - $ x_{2} $: number of large boxes loaded (integer $\\ge 0$)\n",
    "  - $ y $: whether trailer is rented (binary $0$ or $1$)\n",
    "\n",
    "- Objective: Maximize Net Profit\n",
    "$$\n",
    "\\text{Profit} = 10x_{1} + 30x_{2} - 100y\n",
    "$$\n",
    "\n",
    "- Constraints:\n",
    "\n",
    "$$\n",
    "5x_{1} + 20x_{2} \\leq 100 + 50y \\text{~ (Capacity)}\n",
    "$$\n",
    "\n",
    "$$\n",
    "x_{1}, x_{2} \\geq 0, \\quad y \\in \\{0,1\\} \\text{~ (Non-negativity)}\n",
    "$$"
   ]
  },
  {
   "cell_type": "code",
   "execution_count": 2,
   "metadata": {},
   "outputs": [],
   "source": [
    "#small_box_volume = 5\n",
    "#large_box_volume = 20\n",
    "#small_box_profit = 10\n",
    "#large_box_profit = 30\n",
    "#capacity = 100\n",
    "#optional_trailer_capacity = 50\n",
    "#optional_trailer_cost = 100"
   ]
  },
  {
   "cell_type": "code",
   "execution_count": 1,
   "metadata": {},
   "outputs": [],
   "source": [
    "from ortools.linear_solver import pywraplp\n",
    "\n",
    "def delivery_truck_mip(\n",
    "    small_box_volume = 5,\n",
    "    large_box_volume = 20,\n",
    "    small_box_profit = 10,\n",
    "    large_box_profit = 30,\n",
    "    capacity = 100,\n",
    "    optional_trailer_capacity = 50,\n",
    "    optional_trailer_cost = 100,\n",
    "    ):\n",
    "    # Create solver instance (CBC uses Branch & Bound internally)\n",
    "    solver = pywraplp.Solver.CreateSolver('CBC')\n",
    "    if not solver:\n",
    "        return\n",
    "\n",
    "    # Decision variables\n",
    "    x1 = solver.IntVar(0, solver.infinity(), 'SmallBoxes')\n",
    "    x2 = solver.IntVar(0, solver.infinity(), 'LargeBoxes')\n",
    "    y = solver.IntVar(0, 1, 'TrailerRented')  # binary: 0 or 1\n",
    "\n",
    "    # Capacity constraint\n",
    "    #solver.Add(5 * x1 + 20 * x2 <= 100 + 50 * y)\n",
    "    solver.Add(small_box_volume * x1 + large_box_volume * x2 <= capacity + optional_trailer_capacity * y)\n",
    "\n",
    "    # Objective: Maximize net profit\n",
    "    #solver.Maximize(10 * x1 + 30 * x2 - 100 * y)\n",
    "    solver.Maximize(small_box_profit * x1 + large_box_profit * x2 - optional_trailer_cost * y)\n",
    "\n",
    "    # Solve\n",
    "    status = solver.Solve()\n",
    "\n",
    "    if status == pywraplp.Solver.OPTIMAL:\n",
    "        print(\" Solution Found:\")\n",
    "        print(f\"  Small boxes loaded: {x1.solution_value()}\")\n",
    "        print(f\"  Large boxes loaded: {x2.solution_value()}\")\n",
    "        print(f\"  Trailer rented (1=yes, 0=no): {y.solution_value()}\")\n",
    "        print(f\"  Maximum Profit: ${solver.Objective().Value():.2f}\")\n",
    "    else:\n",
    "        print(\" No optimal solution found.\")"
   ]
  },
  {
   "cell_type": "code",
   "execution_count": 2,
   "metadata": {},
   "outputs": [
    {
     "name": "stdout",
     "output_type": "stream",
     "text": [
      " Solution Found:\n",
      "  Small boxes loaded: 20.0\n",
      "  Large boxes loaded: 0.0\n",
      "  Trailer rented (1=yes, 0=no): 0.0\n",
      "  Maximum Profit: $200.00\n"
     ]
    }
   ],
   "source": [
    "# Run the optimization\n",
    "#delivery_truck_mip()\n",
    "delivery_truck_mip(\n",
    "    small_box_volume = 5,\n",
    "    large_box_volume = 20,\n",
    "    small_box_profit = 10,\n",
    "    large_box_profit = 30,\n",
    "    capacity = 100,\n",
    "    optional_trailer_capacity = 50,\n",
    "    optional_trailer_cost = 100,\n",
    "    )"
   ]
  },
  {
   "cell_type": "markdown",
   "metadata": {},
   "source": [
    "### Exercise 2: "
   ]
  },
  {
   "cell_type": "markdown",
   "metadata": {},
   "source": [
    "Problem: Warehouse Shipment Optimization\n",
    "\n",
    "- Scenario: A logistics company manages shipments from **2 warehouses** to **3 retail stores**.\n",
    "Each warehouse has a limited stock of goods, and each store has a specific demand.\n",
    "\n",
    "  - Determine how many integer units to ship from each warehouse to each store to minimize shipping cost, while satisfying store demand and not exceeding warehouse capacity.\n",
    "\n",
    "- Product Details:\n",
    "\n",
    "| Warehouse | Supply (units) |\n",
    "| --------- | -------------- |\n",
    "| W1        | 50             |\n",
    "| W2        | 60             |\n",
    "\n",
    "\n",
    "\n",
    "| Store | Demand (units) |\n",
    "| ----- | -------------- |\n",
    "| S1    | 30             |\n",
    "| S2    | 40             |\n",
    "| S3    | 40             |\n",
    "\n",
    "\n",
    "\n",
    "| Shipping Cost per Unit | S1 | S2 | S3 |\n",
    "| ---------------------- | -- | -- | -- |\n",
    "| W1                     | 4  | 6  | 9  |\n",
    "| W2                     | 5  | 4  | 7  |"
   ]
  },
  {
   "cell_type": "markdown",
   "metadata": {},
   "source": [
    "#### Answer \n",
    "\n",
    "- Mathematical Formulation\n",
    "\n",
    "  - Decision Variables: \n",
    "    - Let $x_{ij}$: number of units shipped from warehouse $i$ to store $j$, for: $i \\in \\{1, 2\\}$, $j \\in \\{1, 2, 3\\}$. \n",
    "    - All $x_{ij}$ are non-negative integers\n",
    "\n",
    "- Objective Function (Minimize cost):\n",
    "\n",
    "$$\n",
    "\\text{Minimize } Z = 4x_{11} + 6x_{12} + 9x_{13} + 5x_{21} + 4x_{22} + 7x_{23}\n",
    "$$\n",
    "\n",
    "- Constraints:\n",
    "\n",
    "$$\n",
    "x_{11} + x_{12} + x_{13} \\leq 50 \\quad (\\text{Supply W1}) \n",
    "$$\n",
    "\n",
    "$$\n",
    "x_{21} + x_{22} + x_{23} \\leq 60 \\quad (\\text{Supply W2})\n",
    "$$\n",
    "\n",
    "$$\n",
    "x_{11} + x_{21} = 30 \\quad (\\text{Demand S1})\n",
    "$$\n",
    "\n",
    "$$\n",
    "x_{12} + x_{22} = 40 \\quad (\\text{Demand S2})\n",
    "$$\n",
    "\n",
    "$$\n",
    "x_{13} + x_{23} = 40 \\quad (\\text{Demand S3})\n",
    "$$"
   ]
  },
  {
   "cell_type": "code",
   "execution_count": 6,
   "metadata": {},
   "outputs": [
    {
     "name": "stdout",
     "output_type": "stream",
     "text": [
      "Optimal Solution Found:\n",
      "\t Warehouse 1 → Store 1: 30 units\n",
      "\t Warehouse 1 → Store 2: 0 units\n",
      "\t Warehouse 1 → Store 3: 20 units\n",
      "\t Warehouse 2 → Store 1: 0 units\n",
      "\t Warehouse 2 → Store 2: 40 units\n",
      "\t Warehouse 2 → Store 3: 20 units\n",
      "\t Total Shipping Cost = $600.00\n"
     ]
    }
   ],
   "source": [
    "from ortools.linear_solver import pywraplp\n",
    "\n",
    "def solve_shipping_problem():\n",
    "    # Initialize solver\n",
    "    solver = pywraplp.Solver.CreateSolver('SCIP')\n",
    "\n",
    "    # Variables: x[i][j] = units from warehouse i to store j\n",
    "    x = {}\n",
    "    for i in range(2):\n",
    "        for j in range(3):\n",
    "            x[i, j] = solver.IntVar(0, solver.infinity(), f'x_{i+1}{j+1}')\n",
    "\n",
    "    # Supply constraints\n",
    "    solver.Add(x[0, 0] + x[0, 1] + x[0, 2] <= 50)  # W1\n",
    "    solver.Add(x[1, 0] + x[1, 1] + x[1, 2] <= 60)  # W2\n",
    "\n",
    "    # Demand constraints\n",
    "    solver.Add(x[0, 0] + x[1, 0] == 30)  # S1\n",
    "    solver.Add(x[0, 1] + x[1, 1] == 40)  # S2\n",
    "    solver.Add(x[0, 2] + x[1, 2] == 40)  # S3\n",
    "\n",
    "    # Cost matrix\n",
    "    costs = [\n",
    "        [4, 6, 9],  # W1 to S1, S2, S3\n",
    "        [5, 4, 7]   # W2 to S1, S2, S3\n",
    "    ]\n",
    "\n",
    "    # Objective function\n",
    "    objective = solver.Objective()\n",
    "    for i in range(2):\n",
    "        for j in range(3):\n",
    "            objective.SetCoefficient(x[i, j], costs[i][j])\n",
    "    objective.SetMinimization()\n",
    "\n",
    "    # Solve\n",
    "    status = solver.Solve()\n",
    "\n",
    "    # Output\n",
    "    if status == pywraplp.Solver.OPTIMAL:\n",
    "        print('Optimal Solution Found:')\n",
    "        total_cost = 0\n",
    "        for i in range(2):\n",
    "            for j in range(3):\n",
    "                val = x[i, j].solution_value()\n",
    "                print(f'\\t Warehouse {i+1} → Store {j+1}: {int(val)} units')\n",
    "                total_cost += val * costs[i][j]\n",
    "        print(f'\\t Total Shipping Cost = ${total_cost:.2f}')\n",
    "    else:\n",
    "        print('No optimal solution found.')\n",
    "\n",
    "# Run the solver\n",
    "solve_shipping_problem()"
   ]
  },
  {
   "cell_type": "code",
   "execution_count": null,
   "metadata": {},
   "outputs": [],
   "source": []
  }
 ],
 "metadata": {
  "colab": {
   "collapsed_sections": [],
   "name": "Workshop_FB_Regresion_Lineal.ipynb",
   "provenance": [
    {
     "file_id": "1tLnxwf-lAA3so9YuHSq1nl6xxmW9kElL",
     "timestamp": 1544685889886
    },
    {
     "file_id": "1kx27Zo-Ir1nMRVUs6Si_Lz9bKhlP8gy4",
     "timestamp": 1530850462629
    }
   ],
   "version": "0.3.2"
  },
  "kernelspec": {
   "display_name": "PA-Venv",
   "language": "python",
   "name": "python3"
  },
  "language_info": {
   "codemirror_mode": {
    "name": "ipython",
    "version": 3
   },
   "file_extension": ".py",
   "mimetype": "text/x-python",
   "name": "python",
   "nbconvert_exporter": "python",
   "pygments_lexer": "ipython3",
   "version": "3.13.5"
  }
 },
 "nbformat": 4,
 "nbformat_minor": 4
}
