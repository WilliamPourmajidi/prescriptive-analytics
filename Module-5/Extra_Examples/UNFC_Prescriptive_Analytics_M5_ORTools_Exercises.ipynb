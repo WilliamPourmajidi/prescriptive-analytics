{
 "cells": [
  {
   "cell_type": "markdown",
   "metadata": {},
   "source": [
    "<img src=\"UNFC_COVER.jpg\" alt=\"UNFC\">"
   ]
  },
  {
   "cell_type": "markdown",
   "metadata": {},
   "source": [
    "# Module 5: Linear Integer Programming"
   ]
  },
  {
   "cell_type": "markdown",
   "metadata": {},
   "source": [
    "## Import Libraries"
   ]
  },
  {
   "cell_type": "code",
   "execution_count": 1,
   "metadata": {},
   "outputs": [],
   "source": [
    "#!pip install pandas\n",
    "#!pip install matplotlib\n",
    "#!pip install numpy\n",
    "#!pip install seaborn\n",
    "#!pip install ortools"
   ]
  },
  {
   "cell_type": "code",
   "execution_count": 2,
   "metadata": {},
   "outputs": [],
   "source": [
    "import pandas as pd\n",
    "import matplotlib.pyplot as plt\n",
    "import numpy as np\n",
    "import seaborn as sns\n",
    "\n",
    "from ortools.init.python import init\n",
    "from ortools.linear_solver import pywraplp"
   ]
  },
  {
   "cell_type": "markdown",
   "metadata": {},
   "source": [
    "## LP Exercise"
   ]
  },
  {
   "cell_type": "markdown",
   "metadata": {},
   "source": [
    "### Juice Bar Optimization"
   ]
  },
  {
   "cell_type": "markdown",
   "metadata": {},
   "source": [
    "A juice bar sells two products:\n",
    "\n",
    "- Tropical Juice (T)\n",
    "\n",
    "- Berry Juice (B)\n",
    "\n",
    "Each type of juice requires fruits and bottling time, and the bar has limited resources each day.\n",
    "\n",
    "| Resource              | Tropical Juice (T) | Berry Juice (B)\t| Availability per day |\n",
    "| :------:              | :----------------: | :-----------:\t| :------------------: |\n",
    "| Fruits (kg)           | 2 kg               | 1 kg\t            | 100 kg               |\n",
    "| Bottling Time (min)\t| 3 min\t             | 2 min\t        | 120 min              |\n",
    "| Profit per unit\t    | $3\t             | $2\t            | —                    |\n",
    "\n",
    "Write a code to take all current information and maximize the total profit. What would happen if the Juice bar could make the tropical Juice botling tim 1 minute faster?"
   ]
  },
  {
   "cell_type": "markdown",
   "metadata": {},
   "source": [
    "## MIP Exercise"
   ]
  },
  {
   "cell_type": "markdown",
   "metadata": {},
   "source": [
    "### Facility Selection and Production Planning\n",
    "\n",
    "A company is considering opening up to 2 out of 3 factories to produce a specific car part. Each factory has a fixed cost if opened and variable production cost per unit. The goal is to meet customer demand at minimum total cost.\n",
    "\n",
    "| Factory| Fixed Cost ($)| Variable Cost per Unit ($)| Capacity (units) |\n",
    "| :-----:| :------------:| :------------------------:| :--------------: |\n",
    "|    A   |    10,000     |             5             |       100        |\n",
    "|    B   |    8,000      |             6             |       120        |\n",
    "|    C   |    12,000     |             4             |       90         |        \n",
    "\n",
    "\n",
    "- Demand: 180 units\n",
    "- Constraint: You can open at most 2 factories\n",
    "\n",
    "Write a code to take all current information and minimize the cost of production. What would happen if we the company dould reduced the Fixed Cost of Factory C by $20\\%$?"
   ]
  }
 ],
 "metadata": {
  "colab": {
   "collapsed_sections": [],
   "name": "Workshop_FB_Regresion_Lineal.ipynb",
   "provenance": [
    {
     "file_id": "1tLnxwf-lAA3so9YuHSq1nl6xxmW9kElL",
     "timestamp": 1544685889886
    },
    {
     "file_id": "1kx27Zo-Ir1nMRVUs6Si_Lz9bKhlP8gy4",
     "timestamp": 1530850462629
    }
   ],
   "version": "0.3.2"
  },
  "kernelspec": {
   "display_name": "envPrescriptiveAnalytics",
   "language": "python",
   "name": "python3"
  },
  "language_info": {
   "codemirror_mode": {
    "name": "ipython",
    "version": 3
   },
   "file_extension": ".py",
   "mimetype": "text/x-python",
   "name": "python",
   "nbconvert_exporter": "python",
   "pygments_lexer": "ipython3",
   "version": "3.12.4"
  }
 },
 "nbformat": 4,
 "nbformat_minor": 4
}
