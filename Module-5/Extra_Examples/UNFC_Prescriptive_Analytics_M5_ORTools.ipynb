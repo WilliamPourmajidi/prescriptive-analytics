{
 "cells": [
  {
   "cell_type": "markdown",
   "metadata": {},
   "source": [
    "<img src=\"UNFC_COVER.jpg\" alt=\"UNFC\">"
   ]
  },
  {
   "cell_type": "markdown",
   "metadata": {},
   "source": [
    "# Module 5: Linear Integer Programming\n",
    "\n",
    "- [Google OR-Tools](https://developers.google.com/optimization)"
   ]
  },
  {
   "cell_type": "markdown",
   "metadata": {},
   "source": [
    "## Importing Libraries"
   ]
  },
  {
   "cell_type": "code",
   "execution_count": 1,
   "metadata": {},
   "outputs": [],
   "source": [
    "import pandas as pd\n",
    "import matplotlib.pyplot as plt\n",
    "import numpy as np\n",
    "import seaborn as sns\n",
    "from ortools.init.python import init\n",
    "from ortools.linear_solver import pywraplp"
   ]
  },
  {
   "cell_type": "markdown",
   "metadata": {},
   "source": [
    "## Solving an Linear Programming (LP) Problem \n",
    "\n",
    "- [Solving an LP Problem](https://developers.google.com/optimization/lp/lp_example)"
   ]
  },
  {
   "cell_type": "markdown",
   "metadata": {},
   "source": [
    "The following sections present an example of an LP problem and show how to solve it. Here's the problem:\n",
    "\n",
    "Maximize 3x + 4y subject to the following constraints:\n",
    "\n",
    "$$\n",
    "    x + 2y ≤ 14\\\\ \\\n",
    "    3x - y ≥ 0\\\\ \\\n",
    "    x - y ≤ 2\\\\ \\\n",
    "$$\n",
    "Both the objective function, 3x + 4y, and the constraints are given by linear expressions, which makes this a linear problem.\n",
    "\n",
    "The constraints define the feasible region, which is the triangle shown below, including its interior.\n",
    "\n",
    "<figure>\n",
    "<img src=\"Figure/feasible_region_LP.png\" alt=\"feasible_region_LP\">\n",
    "</figure>"
   ]
  },
  {
   "cell_type": "markdown",
   "metadata": {},
   "source": [
    "### Basic steps for solving an LP problem\n",
    "\n",
    "To solve a LP problem, your program should include the following steps:\n",
    "\n",
    "- Import the linear solver wrapper,\n",
    "- declare the LP solver,\n",
    "- define the variables,\n",
    "- define the constraints,\n",
    "- define the objective,\n",
    "- call the LP solver; and\n",
    "- display the solution\n"
   ]
  },
  {
   "cell_type": "markdown",
   "metadata": {},
   "source": [
    "### Solution using the MPSolver\n",
    "\n",
    "The following section present a program that solves the problem using the MPSolver wrapper and an LP solver.\n",
    "\n",
    "Note. To run the program below, you need to install OR-Tools.\n",
    "\n",
    "The primary OR-Tools linear optimization solver is Glop, Google's in-house linear programming solver. It's fast, memory efficient, and numerically stable."
   ]
  },
  {
   "cell_type": "markdown",
   "metadata": {},
   "source": [
    "### Import the linear solver wrapper\n",
    "\n",
    "Import (or include) the OR-Tools linear solver wrapper, an interface for MIP solvers and linear solvers, as shown below."
   ]
  },
  {
   "cell_type": "code",
   "execution_count": 2,
   "metadata": {},
   "outputs": [],
   "source": [
    "from ortools.linear_solver import pywraplp"
   ]
  },
  {
   "cell_type": "markdown",
   "metadata": {},
   "source": [
    "### Declare the LP solver\n",
    "\n",
    "MPsolver is a wrapper for several different solvers, including Glop. The code below declares the GLOP solver. "
   ]
  },
  {
   "cell_type": "code",
   "execution_count": 3,
   "metadata": {},
   "outputs": [],
   "source": [
    "solver = pywraplp.Solver.CreateSolver(\"GLOP\")\n",
    "if not solver:\n",
    "    pass\n",
    "    #return"
   ]
  },
  {
   "cell_type": "markdown",
   "metadata": {},
   "source": [
    "Note: Substitute PDLP for GLOP to use an alternative LP solver. For more details on choosing solvers, see advanced LP solving, and for installation of third-party solvers, see the installation guide."
   ]
  },
  {
   "cell_type": "markdown",
   "metadata": {},
   "source": [
    "### Create the variables.\n",
    "\n",
    "First, create variables x and y whose values are in the range from 0 to infinity."
   ]
  },
  {
   "cell_type": "code",
   "execution_count": 4,
   "metadata": {},
   "outputs": [
    {
     "name": "stdout",
     "output_type": "stream",
     "text": [
      "Number of variables = 2\n"
     ]
    }
   ],
   "source": [
    "x = solver.NumVar(0, solver.infinity(), \"x\")\n",
    "y = solver.NumVar(0, solver.infinity(), \"y\")\n",
    "\n",
    "print(\"Number of variables =\", solver.NumVariables())"
   ]
  },
  {
   "cell_type": "markdown",
   "metadata": {},
   "source": [
    "### Define the constraints\n",
    "\n",
    "Next, define the constraints on the variables. Give each constraint a unique name (such as constraint0), and then define the coefficients for the constraint."
   ]
  },
  {
   "cell_type": "code",
   "execution_count": 5,
   "metadata": {},
   "outputs": [
    {
     "name": "stdout",
     "output_type": "stream",
     "text": [
      "Number of constraints = 3\n"
     ]
    }
   ],
   "source": [
    "# Constraint 0: x + 2y <= 14.\n",
    "solver.Add(x + 2 * y <= 14.0)\n",
    "\n",
    "# Constraint 1: 3x - y >= 0.\n",
    "solver.Add(3 * x - y >= 0.0)\n",
    "\n",
    "# Constraint 2: x - y <= 2.\n",
    "solver.Add(x - y <= 2.0)\n",
    "\n",
    "print(\"Number of constraints =\", solver.NumConstraints())"
   ]
  },
  {
   "cell_type": "markdown",
   "metadata": {},
   "source": [
    "### Define the objective function\n",
    "\n",
    "The following code defines the objective function, 3x + 4y, and specifies that this is a maximization problem."
   ]
  },
  {
   "cell_type": "code",
   "execution_count": 6,
   "metadata": {},
   "outputs": [],
   "source": [
    "# Objective function: 3x + 4y.\n",
    "solver.Maximize(3 * x + 4 * y)"
   ]
  },
  {
   "cell_type": "markdown",
   "metadata": {},
   "source": [
    "### Invoke the solver\n",
    "\n",
    "The following code invokes the solver."
   ]
  },
  {
   "cell_type": "code",
   "execution_count": 7,
   "metadata": {},
   "outputs": [
    {
     "name": "stdout",
     "output_type": "stream",
     "text": [
      "Solving with Glop solver v9.12.4544\n"
     ]
    }
   ],
   "source": [
    "print(f\"Solving with {solver.SolverVersion()}\")\n",
    "status = solver.Solve()"
   ]
  },
  {
   "cell_type": "markdown",
   "metadata": {},
   "source": [
    "### Display the solution\n",
    "\n",
    "The following code displays the solution."
   ]
  },
  {
   "cell_type": "code",
   "execution_count": 8,
   "metadata": {},
   "outputs": [
    {
     "name": "stdout",
     "output_type": "stream",
     "text": [
      "Solution:\n",
      "Objective value = 34.0\n",
      "x = 6.0\n",
      "y = 4.0\n"
     ]
    }
   ],
   "source": [
    "if status == pywraplp.Solver.OPTIMAL:\n",
    "    print(\"Solution:\")\n",
    "    print(f\"Objective value = {solver.Objective().Value():0.1f}\")\n",
    "    print(f\"x = {x.solution_value():0.1f}\")\n",
    "    print(f\"y = {y.solution_value():0.1f}\")\n",
    "else:\n",
    "    print(\"The problem does not have an optimal solution.\")"
   ]
  },
  {
   "cell_type": "markdown",
   "metadata": {},
   "source": [
    "### The complete programs\n",
    "\n",
    "The complete programs are shown below."
   ]
  },
  {
   "cell_type": "code",
   "execution_count": 9,
   "metadata": {},
   "outputs": [
    {
     "name": "stdout",
     "output_type": "stream",
     "text": [
      "Number of variables = 2\n",
      "Number of constraints = 3\n",
      "Solving with Glop solver v9.12.4544\n",
      "Solution:\n",
      "Objective value = 34.0\n",
      "x = 6.0\n",
      "y = 4.0\n",
      "\n",
      "Advanced usage:\n",
      "Problem solved in 0 milliseconds\n",
      "Problem solved in 2 iterations\n"
     ]
    }
   ],
   "source": [
    "from ortools.linear_solver import pywraplp\n",
    "\n",
    "\n",
    "def LinearProgrammingExample():\n",
    "    \"\"\"Linear programming sample.\"\"\"\n",
    "    # Instantiate a Glop solver, naming it LinearExample.\n",
    "    solver = pywraplp.Solver.CreateSolver(\"GLOP\")\n",
    "    if not solver:\n",
    "        return\n",
    "\n",
    "    # Create the two variables and let them take on any non-negative value.\n",
    "    x = solver.NumVar(0, solver.infinity(), \"x\")\n",
    "    y = solver.NumVar(0, solver.infinity(), \"y\")\n",
    "\n",
    "    print(\"Number of variables =\", solver.NumVariables())\n",
    "\n",
    "    # Constraint 0: x + 2y <= 14.\n",
    "    solver.Add(x + 2 * y <= 14.0)\n",
    "\n",
    "    # Constraint 1: 3x - y >= 0.\n",
    "    solver.Add(3 * x - y >= 0.0)\n",
    "\n",
    "    # Constraint 2: x - y <= 2.\n",
    "    solver.Add(x - y <= 2.0)\n",
    "\n",
    "    print(\"Number of constraints =\", solver.NumConstraints())\n",
    "\n",
    "    # Objective function: 3x + 4y.\n",
    "    solver.Maximize(3 * x + 4 * y)\n",
    "\n",
    "    # Solve the system.\n",
    "    print(f\"Solving with {solver.SolverVersion()}\")\n",
    "    status = solver.Solve()\n",
    "\n",
    "    if status == pywraplp.Solver.OPTIMAL:\n",
    "        print(\"Solution:\")\n",
    "        print(f\"Objective value = {solver.Objective().Value():0.1f}\")\n",
    "        print(f\"x = {x.solution_value():0.1f}\")\n",
    "        print(f\"y = {y.solution_value():0.1f}\")\n",
    "    else:\n",
    "        print(\"The problem does not have an optimal solution.\")\n",
    "\n",
    "    print(\"\\nAdvanced usage:\")\n",
    "    print(f\"Problem solved in {solver.wall_time():d} milliseconds\")\n",
    "    print(f\"Problem solved in {solver.iterations():d} iterations\")\n",
    "\n",
    "\n",
    "LinearProgrammingExample()"
   ]
  },
  {
   "cell_type": "markdown",
   "metadata": {},
   "source": [
    "### Optimal solution\n",
    "\n",
    "The program returns the optimal solution to the problem, as shown below.\n",
    "\n",
    "\n",
    "\n",
    "Number of variables = 2\n",
    "\n",
    "Number of constraints = 3\n",
    "\n",
    "Solution:\n",
    "\n",
    "x = 6.0\n",
    "\n",
    "y = 4.0\n",
    "\n",
    "Optimal objective value = 34.0\n"
   ]
  },
  {
   "cell_type": "markdown",
   "metadata": {},
   "source": [
    "Here is a graph showing the solution:"
   ]
  },
  {
   "cell_type": "markdown",
   "metadata": {},
   "source": [
    "<figure>\n",
    "<img src=\"Figure/feasible_region_solution_LP.png\" alt=\"feasible_region_solution_LP\">\n",
    "</figure>"
   ]
  },
  {
   "cell_type": "markdown",
   "metadata": {},
   "source": [
    "## Solving an Mixed Integer Programong (MIP) Problem\n",
    "\n",
    "- [Solving an MIP Problem](https://developers.google.com/optimization/mip/mip_example)"
   ]
  },
  {
   "cell_type": "markdown",
   "metadata": {},
   "source": [
    "The following sections present an example of a MIP problem and show how to solve it. Here's the problem:\n",
    "\n",
    "Maximize x + 10y subject to the following constraints:\n",
    "\n",
    "$$\n",
    "    x + 7y ≤ 17.5\\\\ \\\n",
    "    0 ≤ x ≤ 3.5\\\\ \\\n",
    "    0 ≤ y\\\\ \\\n",
    "    x, y~\\text{integers}\\\\ \\\n",
    "$$\n",
    "\n",
    "Since the constraints are linear, this is just a linear optimization problem in which the solutions are required to be integers. The following graph shows the integer points in the feasible region for the problem.\n",
    "\n",
    "<figure>\n",
    "<img src=\"Figure/feasible_region_MIP.png\" alt=\"feasible_region_MIP\">\n",
    "</figure>\n",
    "\n",
    "Notice that this problem is very similar to the linear optimization problem described in Solving an LP Problem, but in this case it requires the solutions to be integers."
   ]
  },
  {
   "cell_type": "markdown",
   "metadata": {},
   "source": [
    "### Basic steps for solving a MIP problem\n",
    "\n",
    "To solve a MIP problem, your program should include the following steps:\n",
    "\n",
    "- Import the linear solver wrapper,\n",
    "- declare the MIP solver,\n",
    "- define the variables,\n",
    "- define the constraints,\n",
    "- define the objective,\n",
    "- call the MIP solver and\n",
    "- display the solution"
   ]
  },
  {
   "cell_type": "markdown",
   "metadata": {},
   "source": [
    "### Solution using the MPSolver\n",
    "\n",
    "The following section present a program that solves the problem using the MPSolver wrapper and a MIP solver.\n",
    "Note: To run the following program, you need to install OR-Tools.\n",
    "\n",
    "For integer linear problems (ILP), that is problems without continuous variables, we recommend using the CP-SAT solver.\n",
    "\n",
    "For mixed integer problems (MIP), that is problem with both integer and continuous variables, we recommend using the SCIP solver."
   ]
  },
  {
   "cell_type": "markdown",
   "metadata": {},
   "source": [
    "### Import the linear solver wrapper\n",
    "\n",
    "Import (or include) the OR-Tools linear solver wrapper, an interface for MIP solvers and linear solvers, as shown in the following code."
   ]
  },
  {
   "cell_type": "code",
   "execution_count": 10,
   "metadata": {},
   "outputs": [],
   "source": [
    "from ortools.linear_solver import pywraplp"
   ]
  },
  {
   "cell_type": "markdown",
   "metadata": {},
   "source": [
    "### Declare the MIP solver\n",
    "\n",
    "The following code declares the MIP solver for the problem. This example uses the third-party solver SCIP."
   ]
  },
  {
   "cell_type": "code",
   "execution_count": 11,
   "metadata": {},
   "outputs": [],
   "source": [
    "# Create the mip solver with the CP-SAT backend.\n",
    "solver = pywraplp.Solver.CreateSolver(\"SAT\")\n",
    "if not solver:\n",
    "    print('solver no ok')\n",
    "    #return"
   ]
  },
  {
   "cell_type": "markdown",
   "metadata": {},
   "source": [
    "### Define the variables\n",
    "\n",
    "The following code defines the variables in the problem."
   ]
  },
  {
   "cell_type": "code",
   "execution_count": 12,
   "metadata": {},
   "outputs": [
    {
     "name": "stdout",
     "output_type": "stream",
     "text": [
      "Number of variables = 2\n"
     ]
    }
   ],
   "source": [
    "infinity = solver.infinity()\n",
    "# x and y are integer non-negative variables.\n",
    "x = solver.IntVar(0.0, infinity, \"x\")\n",
    "y = solver.IntVar(0.0, infinity, \"y\")\n",
    "\n",
    "print(\"Number of variables =\", solver.NumVariables())"
   ]
  },
  {
   "cell_type": "markdown",
   "metadata": {},
   "source": [
    "The program uses the MakeIntVar method (or a variant, depending on the coding language) to create variables x and y that take on non-negative integer values."
   ]
  },
  {
   "cell_type": "markdown",
   "metadata": {},
   "source": [
    "### Define the constraints\n",
    "\n",
    "The following code defines the constraints for the problem."
   ]
  },
  {
   "cell_type": "code",
   "execution_count": 13,
   "metadata": {},
   "outputs": [
    {
     "name": "stdout",
     "output_type": "stream",
     "text": [
      "Number of constraints = 2\n"
     ]
    }
   ],
   "source": [
    "# x + 7 * y <= 17.5.\n",
    "solver.Add(x + 7 * y <= 17.5)\n",
    "\n",
    "# x <= 3.5.\n",
    "solver.Add(x <= 3.5)\n",
    "\n",
    "print(\"Number of constraints =\", solver.NumConstraints())"
   ]
  },
  {
   "cell_type": "markdown",
   "metadata": {},
   "source": [
    "### Define the objective\n",
    "\n",
    "The following code defines the objective function for the problem."
   ]
  },
  {
   "cell_type": "code",
   "execution_count": 14,
   "metadata": {},
   "outputs": [],
   "source": [
    "# Maximize x + 10 * y.\n",
    "solver.Maximize(x + 10 * y)"
   ]
  },
  {
   "cell_type": "markdown",
   "metadata": {},
   "source": [
    "### Call the solver\n",
    "\n",
    "The following code calls the solver."
   ]
  },
  {
   "cell_type": "code",
   "execution_count": 15,
   "metadata": {},
   "outputs": [
    {
     "name": "stdout",
     "output_type": "stream",
     "text": [
      "Solving with CP-SAT solver v9.12.4544\n"
     ]
    }
   ],
   "source": [
    "print(f\"Solving with {solver.SolverVersion()}\")\n",
    "status = solver.Solve()"
   ]
  },
  {
   "cell_type": "markdown",
   "metadata": {},
   "source": [
    "### Display the solution\n",
    "\n",
    "The following code displays the solution."
   ]
  },
  {
   "cell_type": "code",
   "execution_count": 16,
   "metadata": {},
   "outputs": [
    {
     "name": "stdout",
     "output_type": "stream",
     "text": [
      "Solution:\n",
      "Objective value = 23.0\n",
      "x = 3.0\n",
      "y = 2.0\n"
     ]
    }
   ],
   "source": [
    "if status == pywraplp.Solver.OPTIMAL:\n",
    "    print(\"Solution:\")\n",
    "    print(\"Objective value =\", solver.Objective().Value())\n",
    "    print(\"x =\", x.solution_value())\n",
    "    print(\"y =\", y.solution_value())\n",
    "else:\n",
    "    print(\"The problem does not have an optimal solution.\")"
   ]
  },
  {
   "cell_type": "markdown",
   "metadata": {},
   "source": [
    "The optimal value of the objective function is 23, which occurs at the point x = 3, y = 2."
   ]
  },
  {
   "cell_type": "markdown",
   "metadata": {},
   "source": [
    "### Complete programs\n",
    "\n",
    "Here are the complete programs."
   ]
  },
  {
   "cell_type": "code",
   "execution_count": 17,
   "metadata": {},
   "outputs": [
    {
     "name": "stdout",
     "output_type": "stream",
     "text": [
      "Number of variables = 2\n",
      "Number of constraints = 2\n",
      "Solving with CP-SAT solver v9.12.4544\n",
      "Solution:\n",
      "Objective value = 23.0\n",
      "x = 3.0\n",
      "y = 2.0\n",
      "\n",
      "Advanced usage:\n",
      "Problem solved in 2 milliseconds\n",
      "Problem solved in 0 iterations\n",
      "Problem solved in 0 branch-and-bound nodes\n"
     ]
    }
   ],
   "source": [
    "from ortools.linear_solver import pywraplp\n",
    "\n",
    "\n",
    "def main():\n",
    "    # Create the mip solver with the CP-SAT backend.\n",
    "    solver = pywraplp.Solver.CreateSolver(\"SAT\")\n",
    "    if not solver:\n",
    "        return\n",
    "\n",
    "    infinity = solver.infinity()\n",
    "    # x and y are integer non-negative variables.\n",
    "    x = solver.IntVar(0.0, infinity, \"x\")\n",
    "    y = solver.IntVar(0.0, infinity, \"y\")\n",
    "\n",
    "    print(\"Number of variables =\", solver.NumVariables())\n",
    "\n",
    "    # x + 7 * y <= 17.5.\n",
    "    solver.Add(x + 7 * y <= 17.5)\n",
    "\n",
    "    # x <= 3.5.\n",
    "    solver.Add(x <= 3.5)\n",
    "\n",
    "    print(\"Number of constraints =\", solver.NumConstraints())\n",
    "\n",
    "    # Maximize x + 10 * y.\n",
    "    solver.Maximize(x + 10 * y)\n",
    "\n",
    "    print(f\"Solving with {solver.SolverVersion()}\")\n",
    "    status = solver.Solve()\n",
    "\n",
    "    if status == pywraplp.Solver.OPTIMAL:\n",
    "        print(\"Solution:\")\n",
    "        print(\"Objective value =\", solver.Objective().Value())\n",
    "        print(\"x =\", x.solution_value())\n",
    "        print(\"y =\", y.solution_value())\n",
    "    else:\n",
    "        print(\"The problem does not have an optimal solution.\")\n",
    "\n",
    "    print(\"\\nAdvanced usage:\")\n",
    "    print(f\"Problem solved in {solver.wall_time():d} milliseconds\")\n",
    "    print(f\"Problem solved in {solver.iterations():d} iterations\")\n",
    "    print(f\"Problem solved in {solver.nodes():d} branch-and-bound nodes\")\n",
    "\n",
    "\n",
    "if __name__ == \"__main__\":\n",
    "    main()"
   ]
  },
  {
   "cell_type": "markdown",
   "metadata": {},
   "source": [
    "## Comparison of Linear and Integer Optimization\n",
    "\n",
    "To compare the solution to the integer optimization problem, shown before, with the solution to the corresponding linear optimization problem, in which integer constraints are removed. You might guess that the solution to the integer problem would be the integer point in the feasible region closest to the linear solution — namely, the point x = 0, y = 2. But as you will see next, this is not the case.\n",
    "\n",
    "You can modify the program in the preceding section to solve the linear problem by making the following changes:"
   ]
  },
  {
   "cell_type": "markdown",
   "metadata": {},
   "source": [
    "Replace the MIP solver"
   ]
  },
  {
   "cell_type": "code",
   "execution_count": 18,
   "metadata": {},
   "outputs": [],
   "source": [
    "# Create the mip solver with the CP-SAT backend.\n",
    "solver = pywraplp.Solver.CreateSolver(\"SAT\")\n",
    "if not solver:\n",
    "    print('Solver not ok')\n",
    "    #return"
   ]
  },
  {
   "cell_type": "markdown",
   "metadata": {},
   "source": [
    "with the LP solver"
   ]
  },
  {
   "cell_type": "code",
   "execution_count": 19,
   "metadata": {},
   "outputs": [],
   "source": [
    "# Create the linear solver with the GLOP backend.\n",
    "solver = pywraplp.Solver.CreateSolver(\"GLOP\")\n",
    "if not solver:\n",
    "    print('Solver not ok')\n",
    "    #return"
   ]
  },
  {
   "cell_type": "markdown",
   "metadata": {},
   "source": [
    "Replace the integer variables"
   ]
  },
  {
   "cell_type": "code",
   "execution_count": 20,
   "metadata": {},
   "outputs": [
    {
     "name": "stdout",
     "output_type": "stream",
     "text": [
      "Number of variables = 2\n"
     ]
    }
   ],
   "source": [
    "infinity = solver.infinity()\n",
    "# x and y are integer non-negative variables.\n",
    "x = solver.IntVar(0.0, infinity, \"x\")\n",
    "y = solver.IntVar(0.0, infinity, \"y\")\n",
    "\n",
    "print(\"Number of variables =\", solver.NumVariables())"
   ]
  },
  {
   "cell_type": "markdown",
   "metadata": {},
   "source": [
    "with continuous variables"
   ]
  },
  {
   "cell_type": "code",
   "execution_count": 21,
   "metadata": {},
   "outputs": [
    {
     "name": "stdout",
     "output_type": "stream",
     "text": [
      "Number of variables = 4\n"
     ]
    }
   ],
   "source": [
    "infinity = solver.infinity()\n",
    "# Create the variables x and y.\n",
    "x = solver.NumVar(0.0, infinity, \"x\")\n",
    "y = solver.NumVar(0.0, infinity, \"y\")\n",
    "\n",
    "print(\"Number of variables =\", solver.NumVariables())"
   ]
  },
  {
   "cell_type": "markdown",
   "metadata": {},
   "source": [
    "After making these changes and running the program again, you get the following output:\n",
    "\n",
    "Number of variables = 2\n",
    "\n",
    "Number of constraints = 2\n",
    "\n",
    "Objective value = 25.000000\n",
    "\n",
    "x = 0.000000\n",
    "\n",
    "y = 2.500000"
   ]
  },
  {
   "cell_type": "markdown",
   "metadata": {},
   "source": [
    "The solution to the linear problem occurs at the point x = 0, y = 2.5, where the objective function equals 25. Here's a graph showing the solutions to both the linear and integer problems.\n",
    "\n",
    "<figure>\n",
    "<img src=\"Figure/feasible_region_sol_comparing.png\" alt=\"feasible_region_sol_comparing\">\n",
    "</figure>\n"
   ]
  },
  {
   "cell_type": "markdown",
   "metadata": {},
   "source": [
    "Depending on your problem type, OR-Tools supports several solvers. Here's a list with their purposes:\n",
    "\n",
    "Linear Programming (LP) & Mixed Integer Programming (MIP):\n",
    "\n",
    "| Solver Name | Use Case | Description|\n",
    "| :---------: | :------: | :--------: |\n",
    "| GLOP        | LP       | Google's own Linear Programming solver, optimized for speed and precision in continuous variables only |\n",
    "| SCIP        | MIP      | Handles Integer and Mixed Integer problems; best for problems with 0/1 or integer constraints |\n",
    "| CBC         | MIP      | Coin-or branch and cut; also for integer and mixed-integer problems (used to be OR-Tools default) |\n",
    "| SAT         | MIP, CP  | Google's CP-SAT solver, also supports integer linear optimization efficiently; best for 0/1 models and scheduling |\n"
   ]
  },
  {
   "cell_type": "markdown",
   "metadata": {},
   "source": []
  }
 ],
 "metadata": {
  "colab": {
   "collapsed_sections": [],
   "name": "Workshop_FB_Regresion_Lineal.ipynb",
   "provenance": [
    {
     "file_id": "1tLnxwf-lAA3so9YuHSq1nl6xxmW9kElL",
     "timestamp": 1544685889886
    },
    {
     "file_id": "1kx27Zo-Ir1nMRVUs6Si_Lz9bKhlP8gy4",
     "timestamp": 1530850462629
    }
   ],
   "version": "0.3.2"
  },
  "kernelspec": {
   "display_name": "envPrescriptiveAnalytics",
   "language": "python",
   "name": "python3"
  },
  "language_info": {
   "codemirror_mode": {
    "name": "ipython",
    "version": 3
   },
   "file_extension": ".py",
   "mimetype": "text/x-python",
   "name": "python",
   "nbconvert_exporter": "python",
   "pygments_lexer": "ipython3",
   "version": "3.12.4"
  }
 },
 "nbformat": 4,
 "nbformat_minor": 4
}
